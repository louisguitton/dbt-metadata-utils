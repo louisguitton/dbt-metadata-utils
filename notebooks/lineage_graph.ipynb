{
 "cells": [
  {
   "cell_type": "code",
   "execution_count": 1,
   "metadata": {},
   "outputs": [],
   "source": [
    "import json\n",
    "from hashlib import md5\n",
    "from collections import deque\n",
    "from typing import Dict, Tuple, Union, List\n",
    "\n",
    "from moz_sql_parser import parse, ParseException\n",
    "import networkx as nx\n",
    "from pyvis.network import Network"
   ]
  },
  {
   "cell_type": "code",
   "execution_count": 2,
   "metadata": {},
   "outputs": [],
   "source": [
    "query = parse(\"\"\"\n",
    "with scores_entities as (\n",
    "    select\n",
    "        score_type,\n",
    "        score_id,\n",
    "        score_name\n",
    "    from \"onefootball\".\"analytics\".\"stg_scores__entities\"\n",
    "),\n",
    "articles as (\n",
    "    select\n",
    "        language_code,\n",
    "        article_id,\n",
    "        publish_time,\n",
    "        title\n",
    "    from\n",
    "        \"onefootball\".\"analytics_datasets\".\"train_set_tagging\"\n",
    "),\n",
    "per_language_count as (\n",
    "    select\n",
    "        language_code,\n",
    "        count(article_id) as per_language_count\n",
    "    from articles\n",
    "    group by 1\n",
    "),\n",
    "article_entities_counts as (\n",
    "    select\n",
    "        language as language_code,\n",
    "        score_type,\n",
    "        score_id,\n",
    "        count(feed_item_id) as per_entity_count\n",
    "    from \"onefootball\".\"analytics\".\"stg_cms__feed_item_streams\" as fis\n",
    "    join articles on fis.feed_item_id = articles.article_id\n",
    "    where\n",
    "        score_type in ('team', 'competition', 'player')\n",
    "    group by 1, 2, 3\n",
    ")\n",
    "select\n",
    "    language_code,\n",
    "    score_type,\n",
    "    score_id,\n",
    "    score_name,\n",
    "    per_language_count,\n",
    "    per_entity_count,\n",
    "    log((1 + per_language_count) / (1 + per_entity_count)) + 1 as idf\n",
    "from article_entities_counts\n",
    "join per_language_count using (language_code)\n",
    "join scores_entities using (score_type, score_id)\n",
    "\"\"\")"
   ]
  },
  {
   "cell_type": "code",
   "execution_count": 5,
   "metadata": {},
   "outputs": [],
   "source": [
    "def find_col(query: Dict, col_name: str) -> Tuple[Dict, Union[str, List[Union[str, Dict]]]]:\n",
    "    \"\"\"Get matching colum from query\n",
    "    \n",
    "    Arguments:\n",
    "        query: moz-sql-parser query with 'select' key and 'from' key\n",
    "        col_name: col we want to get lineage info from\n",
    "        \n",
    "    Returns:\n",
    "        lineage info of column\n",
    "    \"\"\"\n",
    "    matching_cols = [col for col in query['select'] if col.get('name', col['value']) == col_name]\n",
    "    # TODO: handle '*'\n",
    "    if len(matching_cols):\n",
    "        return (matching_cols[0], query['from'])\n",
    "    else:\n",
    "        return None\n",
    "\n",
    "    \n",
    "def slice_ctes(query: Dict, cte_name: str):\n",
    "    return {w['name']: w['value'] for w in query['with']}.get(cte_name)\n",
    "\n",
    "\n",
    "class LineagePoint():\n",
    "    def __init__(self, x, y):\n",
    "        self.x: Dict = x\n",
    "        self.y: Union[str, Dict, List[Union[str, Dict]]] = y\n",
    "\n",
    "    @property\n",
    "    def col_name(self):\n",
    "        return self.x.get('name', self.x['value'])\n",
    "\n",
    "    @property\n",
    "    def table_name(self):\n",
    "        if type(self.y) == list:\n",
    "            # more than 1 table\n",
    "            return md5(json.dumps(self.y).encode(\"utf-8\")).hexdigest()\n",
    "        elif type(self.y) == str:\n",
    "            return self.y\n",
    "        elif type(self.y) == dict:\n",
    "            # TODO: check when JOIN + rename\n",
    "            # TODO: check for left, inner and right JOIN\n",
    "            return self.y.get('join') or self.y.get('value')\n",
    "\n",
    "    def __repr__(self):\n",
    "        return f'{self.table_name}.{self.col_name}'"
   ]
  },
  {
   "cell_type": "code",
   "execution_count": 7,
   "metadata": {},
   "outputs": [
    {
     "name": "stdout",
     "output_type": "stream",
     "text": [
      "1c7a0d3e5990366b820db55a43c6c179.language_code\n",
      "article_entities_counts.language_code\n",
      "per_language_count.language_code\n",
      "scores_entities.language_code\n",
      "84ae4007fef5247e919e3c50e7e8c424.language_code\n",
      "articles.language_code\n",
      "onefootball.analytics.stg_cms__feed_item_streams.language_code\n",
      "articles.language_code\n",
      "onefootball.analytics_datasets.train_set_tagging.language_code\n",
      "onefootball.analytics_datasets.train_set_tagging.language_code\n"
     ]
    }
   ],
   "source": [
    "# nodes = []\n",
    "edges = []\n",
    "\n",
    "# initialise the deque https://docs.python.org/3/library/collections.html#collections.deque\n",
    "root = LineagePoint(*find_col(query, 'language_code'))\n",
    "# nodes.append(str(root))\n",
    "to_be_parsed = deque([root])\n",
    "\n",
    "while len(to_be_parsed):\n",
    "    lp = to_be_parsed.popleft()\n",
    "    print(lp)\n",
    "    \n",
    "    if type(lp.y) == list:\n",
    "        # flatten\n",
    "        new_lps = [LineagePoint(lp.x, tbl) for tbl in lp.y]\n",
    "        to_be_parsed.extend(new_lps)\n",
    "        edges.extend([(str(lp), str(nlp)) for nlp in new_lps])\n",
    "        continue\n",
    "    else:\n",
    "        q = slice_ctes(query, lp.table_name)\n",
    "        if q:\n",
    "            found_col = find_col(\n",
    "                query=q,\n",
    "                col_name=lp.col_name\n",
    "            )\n",
    "            if found_col:\n",
    "                new_lp = LineagePoint(*found_col)\n",
    "                to_be_parsed.append(new_lp)\n",
    "#                 nodes.append(str(new_lp))\n",
    "                edges.append((str(lp), str(new_lp)))\n",
    "                continue\n",
    "        else:\n",
    "            # no CTE with the table_name was found\n",
    "            continue"
   ]
  },
  {
   "cell_type": "code",
   "execution_count": 13,
   "metadata": {},
   "outputs": [
    {
     "data": {
      "text/html": [
       "\n",
       "        <iframe\n",
       "            width=\"1000px\"\n",
       "            height=\"500px\"\n",
       "            src=\"nx.html\"\n",
       "            frameborder=\"0\"\n",
       "            allowfullscreen\n",
       "        ></iframe>\n",
       "        "
      ],
      "text/plain": [
       "<IPython.lib.display.IFrame at 0x1174a49d0>"
      ]
     },
     "execution_count": 13,
     "metadata": {},
     "output_type": "execute_result"
    }
   ],
   "source": [
    "G = nx.DiGraph()\n",
    "G.add_edges_from(edges)\n",
    "\n",
    "nt = Network(\"500px\", \"1000px\", notebook=True, directed=True)\n",
    "nt.toggle_physics(False)\n",
    "nt.from_nx(G)\n",
    "nt.show(\"nx.html\")"
   ]
  }
 ],
 "metadata": {
  "kernelspec": {
   "display_name": "Python 3",
   "language": "python",
   "name": "python3"
  },
  "language_info": {
   "codemirror_mode": {
    "name": "ipython",
    "version": 3
   },
   "file_extension": ".py",
   "mimetype": "text/x-python",
   "name": "python",
   "nbconvert_exporter": "python",
   "pygments_lexer": "ipython3",
   "version": "3.9.0"
  }
 },
 "nbformat": 4,
 "nbformat_minor": 4
}
